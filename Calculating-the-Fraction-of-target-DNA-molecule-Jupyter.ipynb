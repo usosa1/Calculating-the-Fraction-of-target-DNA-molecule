{
 "cells": [
  {
   "cell_type": "code",
   "execution_count": 43,
   "id": "8390d80f",
   "metadata": {
    "scrolled": true
   },
   "outputs": [
    {
     "name": "stdout",
     "output_type": "stream",
     "text": [
      "Fraction:  3458764513820541/144115188075855872\n",
      "Percent:  2.4 %\n",
      "Fraction:  3458764513820541/144115188075855872\n",
      "Percent:  2.4 %\n"
     ]
    }
   ],
   "source": [
    "# declaration  Variables\n",
    "from fractions import Fraction\n",
    "DNA_Target_length = 50000.0\n",
    "length_Fragment = 300\n",
    "frag = 600\n",
    "allfrag = 4\n",
    "fact_One = 300\n",
    "\n",
    " # METHOD 1: Calc using for loop\n",
    "for i in range(1, allfrag):\n",
    "\tfact_One = fact_One + length_Fragment\n",
    "\n",
    "        \n",
    "FACT_ANSWER = (fact_One/DNA_Target_length) \n",
    "print(\"Fraction: \",  Fraction(FACTORIAL_ANSWER))\n",
    "print(\"Percent: \", FACTORIAL_ANSWER  * 100,\"%\")\n",
    "\n",
    "\n",
    "# Method 2: Calc using while loop\n",
    "fact_Two = 300\n",
    "i = 1\n",
    " \n",
    "while i <= allfrag-1:\n",
    "\tfact_Two = fact_Two  + length_Fragment\n",
    "\ti = i + 1\n",
    "FACT_ANSWER_NEXT = (fact_Two /DNA_Target_length)\n",
    "\n",
    "print(\"Fraction: \",Fraction( FACT_ANSWER_NEXT))\n",
    "print(\"Percent: \", FACT_ANSWER_NEXT * 100,\"%\")\n"
   ]
  }
 ],
 "metadata": {
  "kernelspec": {
   "display_name": "Python 3 (ipykernel)",
   "language": "python",
   "name": "python3"
  },
  "language_info": {
   "codemirror_mode": {
    "name": "ipython",
    "version": 3
   },
   "file_extension": ".py",
   "mimetype": "text/x-python",
   "name": "python",
   "nbconvert_exporter": "python",
   "pygments_lexer": "ipython3",
   "version": "3.7.3"
  }
 },
 "nbformat": 4,
 "nbformat_minor": 5
}
